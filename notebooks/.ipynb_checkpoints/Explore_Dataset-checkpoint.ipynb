{
 "cells": [
  {
   "cell_type": "code",
   "execution_count": 7,
   "metadata": {},
   "outputs": [],
   "source": [
    "import numpy as np\n",
    "import matplotlib.pyplot as plt\n",
    "from PIL import Image\n",
    "import glob\n",
    "import os"
   ]
  },
  {
   "cell_type": "markdown",
   "metadata": {},
   "source": [
    "## Load in Dataset"
   ]
  },
  {
   "cell_type": "code",
   "execution_count": 27,
   "metadata": {},
   "outputs": [],
   "source": [
    "train_dir = '../data/train/'\n",
    "test_dir = '../data/test/'\n",
    "categories = ['happy', 'sad', 'fear', 'surprise', 'neutral', 'angry', 'disgust']\n",
    "\n",
    "train_file_dictionary = {}\n",
    "train_imagefile_to_class_dictionary = {}\n",
    "for emotion in categories:\n",
    "    train_file_dictionary[emotion] = []\n",
    "\n",
    "counter = 0\n",
    "for i in range(len(categories)):\n",
    "    for subdir, dirs, files in os.walk(train_dir+categories[i]+'/'):\n",
    "        for file in files:\n",
    "            train_file_dictionary[categories[i]].append(train_dir+categories[i]+'/'+file)\n",
    "            train_imagefile_to_class_dictionary[counter] = {}\n",
    "            train_imagefile_to_class_dictionary[counter]['file'] = train_dir+categories[i]+'/'+file\n",
    "            train_imagefile_to_class_dictionary[counter]['class'] = i\n",
    "            counter += 1\n",
    "            \n",
    "            \n",
    "            \n",
    "test_file_dictionary = {}\n",
    "test_imagefile_to_class_dictionary = {}\n",
    "for emotion in categories:\n",
    "    test_file_dictionary[emotion] = []\n",
    "\n",
    "counter = 0\n",
    "for i in range(len(categories)):\n",
    "    for subdir, dirs, files in os.walk(test_dir+categories[i]+'/'):\n",
    "        for file in files:\n",
    "            test_file_dictionary[categories[i]].append(test_dir+categories[i]+'/'+file)\n",
    "            test_imagefile_to_class_dictionary[counter] = {}\n",
    "            test_imagefile_to_class_dictionary[counter]['file'] = test_dir+categories[i]+'/'+file\n",
    "            test_imagefile_to_class_dictionary[counter]['label'] = i\n",
    "            counter += 1\n",
    "            \n",
    "            "
   ]
  },
  {
   "cell_type": "code",
   "execution_count": null,
   "metadata": {},
   "outputs": [],
   "source": [
    "image_list = []\n",
    "for filename in glob.glob(train_dir + '' + '/*.jpg'): #assuming gif\n",
    "    im=Image.open(filename)\n",
    "    image_list.append(im)"
   ]
  },
  {
   "cell_type": "code",
   "execution_count": null,
   "metadata": {},
   "outputs": [],
   "source": []
  },
  {
   "cell_type": "code",
   "execution_count": null,
   "metadata": {},
   "outputs": [],
   "source": [
    "class FacialEmotionDataset(Dataset):\n",
    "    \"\"\"Face Landmarks dataset.\"\"\"\n",
    "\n",
    "    def __init__(self, root_dir, imagefile_to_class_dictionary, transform=None):\n",
    "        \"\"\"\n",
    "        Args:\n",
    "            root_dir (string): Directory with all the images.\n",
    "            imagefile_to_class_dictionary (dictionary): Dictionary of image filenames to class for each emotion.\n",
    "        \"\"\"\n",
    "        self.root_dir = root_dir\n",
    "        self.imagefile_to_class_dictionary = imagefile_to_class_dictionary\n",
    "\n",
    "    def __len__(self):\n",
    "        return sum([len(self.imagefile_to_class_dictionary[key]) for key in self.imagefile_to_class_dictionary])\n",
    "\n",
    "    def __getitem__(self, idx):\n",
    "        img_name = imagefile_to_class_dictionary[idx]['file']\n",
    "        image = io.imread(img_name)\n",
    "        label = imagefile_to_class_dictionary[idx]['label']\n",
    "        return sample"
   ]
  }
 ],
 "metadata": {
  "kernelspec": {
   "display_name": "Python 3",
   "language": "python",
   "name": "python3"
  },
  "language_info": {
   "codemirror_mode": {
    "name": "ipython",
    "version": 3
   },
   "file_extension": ".py",
   "mimetype": "text/x-python",
   "name": "python",
   "nbconvert_exporter": "python",
   "pygments_lexer": "ipython3",
   "version": "3.8.3"
  }
 },
 "nbformat": 4,
 "nbformat_minor": 2
}
